{
 "cells": [
  {
   "cell_type": "markdown",
   "id": "7da472d1",
   "metadata": {},
   "source": [
    "#Module 7.6\n",
    "## Case Study\n",
    "###Porównywanie odsetek kredytowych"
   ]
  },
  {
   "cell_type": "code",
   "execution_count": 1,
   "id": "a467fb06",
   "metadata": {},
   "outputs": [],
   "source": [
    "import numpy as np\n",
    "import numpy_financial as npf"
   ]
  },
  {
   "cell_type": "code",
   "execution_count": 2,
   "id": "644fe3e2",
   "metadata": {},
   "outputs": [],
   "source": [
    "freq = 12\n",
    "rate = 0.0675\n",
    "years = 30\n",
    "pv = 200000\n",
    "\n",
    "rate /= freq  # konwersja stopy do okresu miesięcznego\n",
    "nper = years * freq  # liczba wszystkich okresów"
   ]
  },
  {
   "cell_type": "code",
   "execution_count": 3,
   "id": "11aa840a",
   "metadata": {},
   "outputs": [],
   "source": [
    "periods = np.arange(1,nper+1,dtype=int)"
   ]
  },
  {
   "cell_type": "code",
   "execution_count": 4,
   "id": "0eb386ff",
   "metadata": {},
   "outputs": [
    {
     "name": "stdout",
     "output_type": "stream",
     "text": [
      "[  1  26  51  76 101 126 151 176 201 226 251 276 301 326 351]\n"
     ]
    }
   ],
   "source": [
    "print(periods[::25])"
   ]
  },
  {
   "cell_type": "code",
   "execution_count": 5,
   "id": "e86b5ae8",
   "metadata": {},
   "outputs": [
    {
     "data": {
      "text/plain": [
       "array([1125.  , 1124.03, 1123.06, 1122.08, 1121.09, 1120.1 , 1119.11,\n",
       "       1118.1 , 1117.1 , 1116.08, 1115.07, 1114.04, 1113.01, 1111.97,\n",
       "       1110.93, 1109.88, 1108.83, 1107.77, 1106.71, 1105.63, 1104.56,\n",
       "       1103.47, 1102.38, 1101.29, 1100.19, 1099.08, 1097.96, 1096.84,\n",
       "       1095.72, 1094.58, 1093.44, 1092.3 , 1091.14, 1089.98, 1088.82,\n",
       "       1087.65, 1086.47, 1085.28, 1084.09, 1082.89, 1081.69, 1080.47,\n",
       "       1079.26, 1078.03, 1076.8 , 1075.56, 1074.31, 1073.06, 1071.8 ,\n",
       "       1070.53, 1069.25, 1067.97, 1066.68, 1065.38, 1064.08, 1062.77,\n",
       "       1061.45, 1060.12, 1058.79, 1057.45, 1056.1 , 1054.75, 1053.38,\n",
       "       1052.01, 1050.63, 1049.24, 1047.85, 1046.45, 1045.04, 1043.62,\n",
       "       1042.19, 1040.76, 1039.31, 1037.86, 1036.41, 1034.94, 1033.46,\n",
       "       1031.98, 1030.49, 1028.99, 1027.48, 1025.96, 1024.44, 1022.9 ,\n",
       "       1021.36, 1019.81, 1018.25, 1016.68, 1015.1 , 1013.51, 1011.92,\n",
       "       1010.31, 1008.7 , 1007.08, 1005.44, 1003.8 , 1002.15, 1000.49,\n",
       "        998.82,  997.15,  995.46,  993.76,  992.05,  990.34,  988.61,\n",
       "        986.88,  985.13,  983.38,  981.61,  979.83,  978.05,  976.25,\n",
       "        974.45,  972.63,  970.81,  968.97,  967.13,  965.27,  963.4 ,\n",
       "        961.52,  959.64,  957.74,  955.83,  953.91,  951.98,  950.03,\n",
       "        948.08,  946.12,  944.14,  942.16,  940.16,  938.15,  936.13,\n",
       "        934.1 ,  932.06,  930.01,  927.94,  925.86,  923.77,  921.67,\n",
       "        919.56,  917.44,  915.3 ,  913.15,  910.99,  908.82,  906.64,\n",
       "        904.44,  902.23,  900.01,  897.77,  895.53,  893.27,  891.  ,\n",
       "        888.71,  886.41,  884.1 ,  881.78,  879.44,  877.09,  874.73,\n",
       "        872.35,  869.96,  867.56,  865.14,  862.71,  860.27,  857.81,\n",
       "        855.34,  852.85,  850.35,  847.84,  845.31,  842.77,  840.22,\n",
       "        837.64,  835.06,  832.46,  829.85,  827.22,  824.57,  821.91,\n",
       "        819.24,  816.55,  813.85,  811.13,  808.4 ,  805.65,  802.88,\n",
       "        800.1 ,  797.31,  794.49,  791.67,  788.82,  785.96,  783.09,\n",
       "        780.19,  777.29,  774.36,  771.42,  768.46,  765.49,  762.5 ,\n",
       "        759.49,  756.47,  753.43,  750.37,  747.29,  744.2 ,  741.09,\n",
       "        737.96,  734.81,  731.65,  728.47,  725.27,  722.05,  718.82,\n",
       "        715.56,  712.29,  709.  ,  705.69,  702.37,  699.02,  695.66,\n",
       "        692.27,  688.87,  685.45,  682.01,  678.55,  675.07,  671.57,\n",
       "        668.05,  664.51,  660.95,  657.37,  653.77,  650.15,  646.51,\n",
       "        642.85,  639.17,  635.47,  631.75,  628.  ,  624.24,  620.46,\n",
       "        616.65,  612.82,  608.97,  605.1 ,  601.21,  597.29,  593.35,\n",
       "        589.4 ,  585.41,  581.41,  577.38,  573.34,  569.26,  565.17,\n",
       "        561.05,  556.91,  552.75,  548.56,  544.35,  540.11,  535.85,\n",
       "        531.57,  527.26,  522.93,  518.58,  514.2 ,  509.79,  505.37,\n",
       "        500.91,  496.43,  491.93,  487.4 ,  482.84,  478.26,  473.66,\n",
       "        469.02,  464.37,  459.68,  454.97,  450.23,  445.47,  440.68,\n",
       "        435.86,  431.01,  426.14,  421.24,  416.31,  411.36,  406.38,\n",
       "        401.37,  396.33,  391.26,  386.16,  381.04,  375.89,  370.7 ,\n",
       "        365.49,  360.25,  354.98,  349.68,  344.35,  338.99,  333.6 ,\n",
       "        328.18,  322.73,  317.25,  311.74,  306.19,  300.62,  295.01,\n",
       "        289.38,  283.71,  278.01,  272.27,  266.51,  260.71,  254.88,\n",
       "        249.02,  243.12,  237.19,  231.23,  225.23,  219.2 ,  213.14,\n",
       "        207.04,  200.91,  194.74,  188.54,  182.31,  176.03,  169.73,\n",
       "        163.39,  157.01,  150.6 ,  144.15,  137.66,  131.14,  124.58,\n",
       "        117.98,  111.35,  104.68,   97.97,   91.23,   84.44,   77.62,\n",
       "         70.76,   63.86,   56.92,   49.95,   42.93,   35.88,   28.78,\n",
       "         21.65,   14.47,    7.26])"
      ]
     },
     "execution_count": 5,
     "metadata": {},
     "output_type": "execute_result"
    }
   ],
   "source": [
    "interest_equal = - np.around(npf.ipmt(rate,periods,nper,pv),2)\n",
    "interest_equal"
   ]
  },
  {
   "cell_type": "code",
   "execution_count": 6,
   "id": "61f70694",
   "metadata": {},
   "outputs": [
    {
     "data": {
      "text/plain": [
       "array([555.56, 555.56, 555.56, 555.56, 555.56, 555.56, 555.56, 555.56,\n",
       "       555.56, 555.56])"
      ]
     },
     "execution_count": 6,
     "metadata": {},
     "output_type": "execute_result"
    }
   ],
   "source": [
    "np.set_printoptions(suppress=True)\n",
    "\n",
    "principal_decreasing = np.around(np.zeros(nper)+(pv/nper),2)\n",
    "principal_decreasing[:10]"
   ]
  },
  {
   "cell_type": "code",
   "execution_count": 7,
   "id": "a3d78c31",
   "metadata": {},
   "outputs": [
    {
     "data": {
      "text/plain": [
       "array([199444.44, 198888.88, 198333.32,   1109.52,    553.96,     -1.6 ])"
      ]
     },
     "execution_count": 7,
     "metadata": {},
     "output_type": "execute_result"
    }
   ],
   "source": [
    "balance = np.zeros(nper) + pv\n",
    "balance_close = np.around(balance - np.cumsum(principal_decreasing),2)\n",
    "balance_close[[0,1,2,-3,-2,-1]]"
   ]
  },
  {
   "cell_type": "code",
   "execution_count": 8,
   "id": "51310fe8",
   "metadata": {},
   "outputs": [
    {
     "data": {
      "text/plain": [
       "array([ 555.56, 1111.12, 1666.68, 2222.24, 2777.8 , 3333.36, 3888.92,\n",
       "       4444.48, 5000.04, 5555.6 ])"
      ]
     },
     "execution_count": 8,
     "metadata": {},
     "output_type": "execute_result"
    }
   ],
   "source": [
    "np.cumsum(principal_decreasing)[:10]"
   ]
  },
  {
   "cell_type": "code",
   "execution_count": 9,
   "id": "c4a995da",
   "metadata": {},
   "outputs": [
    {
     "name": "stdout",
     "output_type": "stream",
     "text": [
      "[194444.4 188888.8 183333.2 177777.6 172222.  166666.4 161110.8 155555.2\n",
      " 149999.6 144444.  138888.4 133332.8 127777.2 122221.6 116666.  111110.4\n",
      " 105554.8  99999.2  94443.6  88888.   83332.4  77776.8  72221.2  66665.6\n",
      "  61110.   55554.4  49998.8  44443.2  38887.6  33332.   27776.4  22220.8\n",
      "  16665.2  11109.6]\n"
     ]
    }
   ],
   "source": [
    "balance_open = balance_close + principal_decreasing\n",
    "print(balance_open[10:-10:10])"
   ]
  },
  {
   "cell_type": "code",
   "execution_count": 10,
   "id": "c2a3492d",
   "metadata": {},
   "outputs": [
    {
     "data": {
      "text/plain": [
       "array([1125.  , 1121.87, 1118.75, 1115.62, 1112.5 , 1109.37, 1106.25,\n",
       "       1103.12, 1100.  , 1096.87])"
      ]
     },
     "execution_count": 10,
     "metadata": {},
     "output_type": "execute_result"
    }
   ],
   "source": [
    "interest_decreasing = np.around(balance_open * rate,2)\n",
    "interest_decreasing[:10]"
   ]
  },
  {
   "cell_type": "code",
   "execution_count": 11,
   "id": "eb9c987a",
   "metadata": {},
   "outputs": [
    {
     "name": "stdout",
     "output_type": "stream",
     "text": [
      "Wartość odsetek do zapłaty w wariancie kredytu w równych ratach wynosi: 266990.60\n",
      "Wartość odsetek do zapłaty w wariancie kredytu w ratach malejących wynosi: 203060.81\n"
     ]
    }
   ],
   "source": [
    "print(\"Wartość odsetek do zapłaty w wariancie kredytu w równych ratach wynosi: \" + str(\"{:.2f}\".format(interest_equal.sum())))\n",
    "print(\"Wartość odsetek do zapłaty w wariancie kredytu w ratach malejących wynosi: \" + str(\"{:.2f}\".format(interest_decreasing.sum())))"
   ]
  },
  {
   "cell_type": "code",
   "execution_count": 13,
   "id": "7ece7477",
   "metadata": {},
   "outputs": [
    {
     "data": {
      "text/plain": [
       "Text(0, 0.5, 'Skumulowana wartość odsetek')"
      ]
     },
     "execution_count": 13,
     "metadata": {},
     "output_type": "execute_result"
    },
    {
     "data": {
      "image/png": "[encoded data removed]",
      "text/plain": [
       "<Figure size 640x480 with 1 Axes>"
      ]
     },
     "metadata": {},
     "output_type": "display_data"
    }
   ],
   "source": [
    "import matplotlib.pyplot as plt\n",
    "\n",
    "plt.plot(interest_equal.cumsum(),label='raty równe')\n",
    "plt.plot(interest_decreasing.cumsum(),label='raty malejące')\n",
    "plt.legend()\n",
    "plt.xlabel('Liczba okresów')\n",
    "plt.ylabel('Skumulowana wartość odsetek')"
   ]
  },
  {
   "cell_type": "code",
   "execution_count": null,
   "id": "c7b71491",
   "metadata": {},
   "outputs": [],
   "source": []
  }
 ],
 "metadata": {
  "kernelspec": {
   "display_name": "Python 3 (ipykernel)",
   "language": "python",
   "name": "python3"
  },
  "language_info": {
   "codemirror_mode": {
    "name": "ipython",
    "version": 3
   },
   "file_extension": ".py",
   "mimetype": "text/x-python",
   "name": "python",
   "nbconvert_exporter": "python",
   "pygments_lexer": "ipython3",
   "version": "3.12.6"
  }
 },
 "nbformat": 4,
 "nbformat_minor": 5
}
