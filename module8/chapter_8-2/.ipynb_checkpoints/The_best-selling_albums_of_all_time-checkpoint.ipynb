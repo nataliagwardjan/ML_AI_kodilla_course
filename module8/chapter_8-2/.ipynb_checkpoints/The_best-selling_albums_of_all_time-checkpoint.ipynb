{
 "cells": [
  {
   "cell_type": "markdown",
   "id": "6591f01c",
   "metadata": {},
   "source": [
    "# TASK 8.2\n",
    "## The best-selling albums of all time\n",
    "Wczytaj do Pandas bazę najlepiej sprzedających się albumów wszechczasów (https://www.officialcharts.com/chart-news/the-best-selling-albums-of-all-time-on-the-official-uk-chart__15551/).\n",
    "\n",
    "\n",
    "1. Zamień nagłówki kolumn na polskie odpowiedniki: ['TYTUŁ','ARTYSTA','ROK','MAX POZ']\n",
    "2. Ilu pojedynczych artystów znajduje się na liście?\n",
    "3. Które zespoły pojawiają się najczęściej na liście?\n",
    "4. Zmień nagłówki kolumn, tak aby każdy z nich rozpoczynał się od wielkiej litery, a pozostałe były wprowadzone małymi literami.\n",
    "5. Wyrzuć z tabeli kolumnę ‘Max Poz’.\n",
    "6. W którym roku wyszło najwięcej albumów znajdujących się na liście?\n",
    "7. Ile albumów wydanych między 1960 a 1990 rokiem włącznie znajduje się na liście?\n",
    "8. W którym roku wydany został najmłodszy album na liście?\n",
    "9. Przygotuj listę najwcześniej wydanych albumów każdego artysty, który znalazł się na liście.\n",
    "10. Listę zapisz do pliku csv."
   ]
  },
  {
   "cell_type": "markdown",
   "id": "65c0921c",
   "metadata": {},
   "source": [
    "### import package"
   ]
  },
  {
   "cell_type": "code",
   "execution_count": 1,
   "id": "518c8be4",
   "metadata": {},
   "outputs": [],
   "source": [
    "import pandas as pd\n",
    "import numpy as np"
   ]
  },
  {
   "cell_type": "code",
   "execution_count": 2,
   "id": "ada27b91",
   "metadata": {},
   "outputs": [
    {
     "ename": "ImportError",
     "evalue": "Missing optional dependency 'lxml'.  Use pip or conda to install lxml.",
     "output_type": "error",
     "traceback": [
      "\u001b[31m---------------------------------------------------------------------------\u001b[39m",
      "\u001b[31mModuleNotFoundError\u001b[39m                       Traceback (most recent call last)",
      "\u001b[36mFile \u001b[39m\u001b[32m~/Desktop/Natalia/ml_ai_kodilla_course/.venv/lib/python3.12/site-packages/pandas/compat/_optional.py:135\u001b[39m, in \u001b[36mimport_optional_dependency\u001b[39m\u001b[34m(name, extra, errors, min_version)\u001b[39m\n\u001b[32m    134\u001b[39m \u001b[38;5;28;01mtry\u001b[39;00m:\n\u001b[32m--> \u001b[39m\u001b[32m135\u001b[39m     module = \u001b[43mimportlib\u001b[49m\u001b[43m.\u001b[49m\u001b[43mimport_module\u001b[49m\u001b[43m(\u001b[49m\u001b[43mname\u001b[49m\u001b[43m)\u001b[49m\n\u001b[32m    136\u001b[39m \u001b[38;5;28;01mexcept\u001b[39;00m \u001b[38;5;167;01mImportError\u001b[39;00m:\n",
      "\u001b[36mFile \u001b[39m\u001b[32m/Library/Frameworks/Python.framework/Versions/3.12/lib/python3.12/importlib/__init__.py:90\u001b[39m, in \u001b[36mimport_module\u001b[39m\u001b[34m(name, package)\u001b[39m\n\u001b[32m     89\u001b[39m         level += \u001b[32m1\u001b[39m\n\u001b[32m---> \u001b[39m\u001b[32m90\u001b[39m \u001b[38;5;28;01mreturn\u001b[39;00m \u001b[43m_bootstrap\u001b[49m\u001b[43m.\u001b[49m\u001b[43m_gcd_import\u001b[49m\u001b[43m(\u001b[49m\u001b[43mname\u001b[49m\u001b[43m[\u001b[49m\u001b[43mlevel\u001b[49m\u001b[43m:\u001b[49m\u001b[43m]\u001b[49m\u001b[43m,\u001b[49m\u001b[43m \u001b[49m\u001b[43mpackage\u001b[49m\u001b[43m,\u001b[49m\u001b[43m \u001b[49m\u001b[43mlevel\u001b[49m\u001b[43m)\u001b[49m\n",
      "\u001b[36mFile \u001b[39m\u001b[32m<frozen importlib._bootstrap>:1387\u001b[39m, in \u001b[36m_gcd_import\u001b[39m\u001b[34m(name, package, level)\u001b[39m\n",
      "\u001b[36mFile \u001b[39m\u001b[32m<frozen importlib._bootstrap>:1360\u001b[39m, in \u001b[36m_find_and_load\u001b[39m\u001b[34m(name, import_)\u001b[39m\n",
      "\u001b[36mFile \u001b[39m\u001b[32m<frozen importlib._bootstrap>:1310\u001b[39m, in \u001b[36m_find_and_load_unlocked\u001b[39m\u001b[34m(name, import_)\u001b[39m\n",
      "\u001b[36mFile \u001b[39m\u001b[32m<frozen importlib._bootstrap>:488\u001b[39m, in \u001b[36m_call_with_frames_removed\u001b[39m\u001b[34m(f, *args, **kwds)\u001b[39m\n",
      "\u001b[36mFile \u001b[39m\u001b[32m<frozen importlib._bootstrap>:1387\u001b[39m, in \u001b[36m_gcd_import\u001b[39m\u001b[34m(name, package, level)\u001b[39m\n",
      "\u001b[36mFile \u001b[39m\u001b[32m<frozen importlib._bootstrap>:1360\u001b[39m, in \u001b[36m_find_and_load\u001b[39m\u001b[34m(name, import_)\u001b[39m\n",
      "\u001b[36mFile \u001b[39m\u001b[32m<frozen importlib._bootstrap>:1324\u001b[39m, in \u001b[36m_find_and_load_unlocked\u001b[39m\u001b[34m(name, import_)\u001b[39m\n",
      "\u001b[31mModuleNotFoundError\u001b[39m: No module named 'lxml'",
      "\nDuring handling of the above exception, another exception occurred:\n",
      "\u001b[31mImportError\u001b[39m                               Traceback (most recent call last)",
      "\u001b[36mCell\u001b[39m\u001b[36m \u001b[39m\u001b[32mIn[2]\u001b[39m\u001b[32m, line 1\u001b[39m\n\u001b[32m----> \u001b[39m\u001b[32m1\u001b[39m data = \u001b[43mpd\u001b[49m\u001b[43m.\u001b[49m\u001b[43mread_html\u001b[49m\u001b[43m(\u001b[49m\u001b[33;43m'\u001b[39;49m\u001b[33;43mhttps://www.officialcharts.com/chart-news/the-best-selling-albums-of-all-time-on-the-official-uk-chart__15551\u001b[39;49m\u001b[33;43m'\u001b[39;49m\u001b[43m,\u001b[49m\u001b[43m \u001b[49m\u001b[43mheader\u001b[49m\u001b[43m=\u001b[49m\u001b[32;43m0\u001b[39;49m\u001b[43m)\u001b[49m\n",
      "\u001b[36mFile \u001b[39m\u001b[32m~/Desktop/Natalia/ml_ai_kodilla_course/.venv/lib/python3.12/site-packages/pandas/io/html.py:1240\u001b[39m, in \u001b[36mread_html\u001b[39m\u001b[34m(io, match, flavor, header, index_col, skiprows, attrs, parse_dates, thousands, encoding, decimal, converters, na_values, keep_default_na, displayed_only, extract_links, dtype_backend, storage_options)\u001b[39m\n\u001b[32m   1224\u001b[39m \u001b[38;5;28;01mif\u001b[39;00m \u001b[38;5;28misinstance\u001b[39m(io, \u001b[38;5;28mstr\u001b[39m) \u001b[38;5;129;01mand\u001b[39;00m \u001b[38;5;129;01mnot\u001b[39;00m \u001b[38;5;28many\u001b[39m(\n\u001b[32m   1225\u001b[39m     [\n\u001b[32m   1226\u001b[39m         is_file_like(io),\n\u001b[32m   (...)\u001b[39m\u001b[32m   1230\u001b[39m     ]\n\u001b[32m   1231\u001b[39m ):\n\u001b[32m   1232\u001b[39m     warnings.warn(\n\u001b[32m   1233\u001b[39m         \u001b[33m\"\u001b[39m\u001b[33mPassing literal html to \u001b[39m\u001b[33m'\u001b[39m\u001b[33mread_html\u001b[39m\u001b[33m'\u001b[39m\u001b[33m is deprecated and \u001b[39m\u001b[33m\"\u001b[39m\n\u001b[32m   1234\u001b[39m         \u001b[33m\"\u001b[39m\u001b[33mwill be removed in a future version. To read from a \u001b[39m\u001b[33m\"\u001b[39m\n\u001b[32m   (...)\u001b[39m\u001b[32m   1237\u001b[39m         stacklevel=find_stack_level(),\n\u001b[32m   1238\u001b[39m     )\n\u001b[32m-> \u001b[39m\u001b[32m1240\u001b[39m \u001b[38;5;28;01mreturn\u001b[39;00m \u001b[43m_parse\u001b[49m\u001b[43m(\u001b[49m\n\u001b[32m   1241\u001b[39m \u001b[43m    \u001b[49m\u001b[43mflavor\u001b[49m\u001b[43m=\u001b[49m\u001b[43mflavor\u001b[49m\u001b[43m,\u001b[49m\n\u001b[32m   1242\u001b[39m \u001b[43m    \u001b[49m\u001b[43mio\u001b[49m\u001b[43m=\u001b[49m\u001b[43mio\u001b[49m\u001b[43m,\u001b[49m\n\u001b[32m   1243\u001b[39m \u001b[43m    \u001b[49m\u001b[43mmatch\u001b[49m\u001b[43m=\u001b[49m\u001b[43mmatch\u001b[49m\u001b[43m,\u001b[49m\n\u001b[32m   1244\u001b[39m \u001b[43m    \u001b[49m\u001b[43mheader\u001b[49m\u001b[43m=\u001b[49m\u001b[43mheader\u001b[49m\u001b[43m,\u001b[49m\n\u001b[32m   1245\u001b[39m \u001b[43m    \u001b[49m\u001b[43mindex_col\u001b[49m\u001b[43m=\u001b[49m\u001b[43mindex_col\u001b[49m\u001b[43m,\u001b[49m\n\u001b[32m   1246\u001b[39m \u001b[43m    \u001b[49m\u001b[43mskiprows\u001b[49m\u001b[43m=\u001b[49m\u001b[43mskiprows\u001b[49m\u001b[43m,\u001b[49m\n\u001b[32m   1247\u001b[39m \u001b[43m    \u001b[49m\u001b[43mparse_dates\u001b[49m\u001b[43m=\u001b[49m\u001b[43mparse_dates\u001b[49m\u001b[43m,\u001b[49m\n\u001b[32m   1248\u001b[39m \u001b[43m    \u001b[49m\u001b[43mthousands\u001b[49m\u001b[43m=\u001b[49m\u001b[43mthousands\u001b[49m\u001b[43m,\u001b[49m\n\u001b[32m   1249\u001b[39m \u001b[43m    \u001b[49m\u001b[43mattrs\u001b[49m\u001b[43m=\u001b[49m\u001b[43mattrs\u001b[49m\u001b[43m,\u001b[49m\n\u001b[32m   1250\u001b[39m \u001b[43m    \u001b[49m\u001b[43mencoding\u001b[49m\u001b[43m=\u001b[49m\u001b[43mencoding\u001b[49m\u001b[43m,\u001b[49m\n\u001b[32m   1251\u001b[39m \u001b[43m    \u001b[49m\u001b[43mdecimal\u001b[49m\u001b[43m=\u001b[49m\u001b[43mdecimal\u001b[49m\u001b[43m,\u001b[49m\n\u001b[32m   1252\u001b[39m \u001b[43m    \u001b[49m\u001b[43mconverters\u001b[49m\u001b[43m=\u001b[49m\u001b[43mconverters\u001b[49m\u001b[43m,\u001b[49m\n\u001b[32m   1253\u001b[39m \u001b[43m    \u001b[49m\u001b[43mna_values\u001b[49m\u001b[43m=\u001b[49m\u001b[43mna_values\u001b[49m\u001b[43m,\u001b[49m\n\u001b[32m   1254\u001b[39m \u001b[43m    \u001b[49m\u001b[43mkeep_default_na\u001b[49m\u001b[43m=\u001b[49m\u001b[43mkeep_default_na\u001b[49m\u001b[43m,\u001b[49m\n\u001b[32m   1255\u001b[39m \u001b[43m    \u001b[49m\u001b[43mdisplayed_only\u001b[49m\u001b[43m=\u001b[49m\u001b[43mdisplayed_only\u001b[49m\u001b[43m,\u001b[49m\n\u001b[32m   1256\u001b[39m \u001b[43m    \u001b[49m\u001b[43mextract_links\u001b[49m\u001b[43m=\u001b[49m\u001b[43mextract_links\u001b[49m\u001b[43m,\u001b[49m\n\u001b[32m   1257\u001b[39m \u001b[43m    \u001b[49m\u001b[43mdtype_backend\u001b[49m\u001b[43m=\u001b[49m\u001b[43mdtype_backend\u001b[49m\u001b[43m,\u001b[49m\n\u001b[32m   1258\u001b[39m \u001b[43m    \u001b[49m\u001b[43mstorage_options\u001b[49m\u001b[43m=\u001b[49m\u001b[43mstorage_options\u001b[49m\u001b[43m,\u001b[49m\n\u001b[32m   1259\u001b[39m \u001b[43m\u001b[49m\u001b[43m)\u001b[49m\n",
      "\u001b[36mFile \u001b[39m\u001b[32m~/Desktop/Natalia/ml_ai_kodilla_course/.venv/lib/python3.12/site-packages/pandas/io/html.py:971\u001b[39m, in \u001b[36m_parse\u001b[39m\u001b[34m(flavor, io, match, attrs, encoding, displayed_only, extract_links, storage_options, **kwargs)\u001b[39m\n\u001b[32m    969\u001b[39m retained = \u001b[38;5;28;01mNone\u001b[39;00m\n\u001b[32m    970\u001b[39m \u001b[38;5;28;01mfor\u001b[39;00m flav \u001b[38;5;129;01min\u001b[39;00m flavor:\n\u001b[32m--> \u001b[39m\u001b[32m971\u001b[39m     parser = \u001b[43m_parser_dispatch\u001b[49m\u001b[43m(\u001b[49m\u001b[43mflav\u001b[49m\u001b[43m)\u001b[49m\n\u001b[32m    972\u001b[39m     p = parser(\n\u001b[32m    973\u001b[39m         io,\n\u001b[32m    974\u001b[39m         compiled_match,\n\u001b[32m   (...)\u001b[39m\u001b[32m    979\u001b[39m         storage_options,\n\u001b[32m    980\u001b[39m     )\n\u001b[32m    982\u001b[39m     \u001b[38;5;28;01mtry\u001b[39;00m:\n",
      "\u001b[36mFile \u001b[39m\u001b[32m~/Desktop/Natalia/ml_ai_kodilla_course/.venv/lib/python3.12/site-packages/pandas/io/html.py:918\u001b[39m, in \u001b[36m_parser_dispatch\u001b[39m\u001b[34m(flavor)\u001b[39m\n\u001b[32m    916\u001b[39m     import_optional_dependency(\u001b[33m\"\u001b[39m\u001b[33mbs4\u001b[39m\u001b[33m\"\u001b[39m)\n\u001b[32m    917\u001b[39m \u001b[38;5;28;01melse\u001b[39;00m:\n\u001b[32m--> \u001b[39m\u001b[32m918\u001b[39m     \u001b[43mimport_optional_dependency\u001b[49m\u001b[43m(\u001b[49m\u001b[33;43m\"\u001b[39;49m\u001b[33;43mlxml.etree\u001b[39;49m\u001b[33;43m\"\u001b[39;49m\u001b[43m)\u001b[49m\n\u001b[32m    919\u001b[39m \u001b[38;5;28;01mreturn\u001b[39;00m _valid_parsers[flavor]\n",
      "\u001b[36mFile \u001b[39m\u001b[32m~/Desktop/Natalia/ml_ai_kodilla_course/.venv/lib/python3.12/site-packages/pandas/compat/_optional.py:138\u001b[39m, in \u001b[36mimport_optional_dependency\u001b[39m\u001b[34m(name, extra, errors, min_version)\u001b[39m\n\u001b[32m    136\u001b[39m \u001b[38;5;28;01mexcept\u001b[39;00m \u001b[38;5;167;01mImportError\u001b[39;00m:\n\u001b[32m    137\u001b[39m     \u001b[38;5;28;01mif\u001b[39;00m errors == \u001b[33m\"\u001b[39m\u001b[33mraise\u001b[39m\u001b[33m\"\u001b[39m:\n\u001b[32m--> \u001b[39m\u001b[32m138\u001b[39m         \u001b[38;5;28;01mraise\u001b[39;00m \u001b[38;5;167;01mImportError\u001b[39;00m(msg)\n\u001b[32m    139\u001b[39m     \u001b[38;5;28;01mreturn\u001b[39;00m \u001b[38;5;28;01mNone\u001b[39;00m\n\u001b[32m    141\u001b[39m \u001b[38;5;66;03m# Handle submodules: if we have submodule, grab parent module from sys.modules\u001b[39;00m\n",
      "\u001b[31mImportError\u001b[39m: Missing optional dependency 'lxml'.  Use pip or conda to install lxml."
     ]
    }
   ],
   "source": [
    "data = pd.read_html('https://www.officialcharts.com/chart-news/the-best-selling-albums-of-all-time-on-the-official-uk-chart__15551', header=0)"
   ]
  },
  {
   "cell_type": "code",
   "execution_count": null,
   "id": "00850105",
   "metadata": {},
   "outputs": [],
   "source": [
    "type(data)"
   ]
  },
  {
   "cell_type": "code",
   "execution_count": null,
   "id": "ac043d7a",
   "metadata": {},
   "outputs": [],
   "source": [
    "data[0]"
   ]
  },
  {
   "cell_type": "code",
   "execution_count": null,
   "id": "b5147f34",
   "metadata": {},
   "outputs": [],
   "source": [
    "df = pd.DataFrame(data[0])"
   ]
  },
  {
   "cell_type": "code",
   "execution_count": null,
   "id": "1c7a1745",
   "metadata": {},
   "outputs": [],
   "source": [
    "df[:5]"
   ]
  },
  {
   "cell_type": "markdown",
   "id": "b77e0daa",
   "metadata": {},
   "source": [
    "### 1. Zamień nagłówki kolumn na polskie odpowiedniki: ['TYTUŁ','ARTYSTA','ROK','MAX POZ']"
   ]
  },
  {
   "cell_type": "code",
   "execution_count": null,
   "id": "b9fe4e6e",
   "metadata": {},
   "outputs": [],
   "source": [
    "df.rename(columns = {'POS' : 'LP', 'TITLE' : 'TYTUL', 'ARTIST' : 'ARTYSTA', 'YEAR' : 'ROK', 'HIGH POSN' : 'MAX POZ'}, inplace = True)\n",
    "df[:5]"
   ]
  },
  {
   "cell_type": "markdown",
   "id": "ebbde7b8",
   "metadata": {},
   "source": [
    "### 2. Ilu pojedynczych artystów znajduje się na liście?"
   ]
  },
  {
   "cell_type": "code",
   "execution_count": null,
   "id": "ff73f60d",
   "metadata": {},
   "outputs": [],
   "source": [
    "unique_artist = df['ARTYSTA'].unique()\n",
    "print(unique_artist)"
   ]
  },
  {
   "cell_type": "code",
   "execution_count": null,
   "id": "e4ad0f26",
   "metadata": {},
   "outputs": [],
   "source": [
    "number_of_unique_artist = df['ARTYSTA'].nunique()\n",
    "print(f\"ANSWER: There are {number_of_unique_artist} unique artist\")\n",
    "# other posibility to ansewer: unique_artist.size"
   ]
  },
  {
   "cell_type": "markdown",
   "id": "4c6423d3",
   "metadata": {},
   "source": [
    "### 3. Które zespoły pojawiają się najczęściej na liście?"
   ]
  },
  {
   "cell_type": "code",
   "execution_count": null,
   "id": "dee50040",
   "metadata": {},
   "outputs": [],
   "source": [
    "most_popular_artists = df['ARTYSTA'].value_counts().to_frame()\n",
    "most_popular_artists.rename(columns = {'ARTYSTA' : 'ILOSC POJAWIEN W ZESTAWIENIU'}, inplace = True)\n",
    "print(f\"Artist appears in list more then ones: \\n{most_popular_artists[most_popular_artists['ILOSC POJAWIEN W ZESTAWIENIU'] > 1]}\")"
   ]
  },
  {
   "cell_type": "code",
   "execution_count": null,
   "id": "7728294d",
   "metadata": {},
   "outputs": [],
   "source": [
    "print(f\"List of most popular artist (15 first position)\\n {most_popular_artists[:15]}\")"
   ]
  },
  {
   "cell_type": "markdown",
   "id": "ece17c11",
   "metadata": {},
   "source": [
    "### 4. Zmień nagłówki kolumn, tak aby każdy z nich rozpoczynał się od wielkiej litery, a pozostałe były wprowadzone małymi literami."
   ]
  },
  {
   "cell_type": "code",
   "execution_count": null,
   "id": "4aa41400",
   "metadata": {},
   "outputs": [],
   "source": [
    "df.rename(str.title, axis='columns', inplace = True)\n",
    "print(df[:10])"
   ]
  },
  {
   "cell_type": "markdown",
   "id": "2689d1b3",
   "metadata": {},
   "source": [
    "### 5. Wyrzuć z tabeli kolumnę ‘Max Poz’"
   ]
  },
  {
   "cell_type": "code",
   "execution_count": null,
   "id": "52841ad2",
   "metadata": {},
   "outputs": [],
   "source": [
    "data_without_max_poz = df.drop('Max Poz',axis=1)\n",
    "data_without_max_poz[:10]"
   ]
  },
  {
   "cell_type": "markdown",
   "id": "023094ce",
   "metadata": {},
   "source": [
    "### 6. W którym roku wyszło najwięcej albumów znajdujących się na liście?"
   ]
  },
  {
   "cell_type": "code",
   "execution_count": null,
   "id": "f76bb264",
   "metadata": {},
   "outputs": [],
   "source": [
    "year_with_the_hight_number_of_albums = df['Rok'].value_counts().to_frame()\n",
    "year_of_max_albums = year_with_the_hight_number_of_albums.idxmax()\n",
    "print(f\"Year with max albums {year_of_max_albums[0]}\")"
   ]
  },
  {
   "cell_type": "markdown",
   "id": "a21c39ce",
   "metadata": {},
   "source": [
    "Po wyświetleniu listy w pełni to zarówno w 2000 jak w 1987 pojawiły się 4 albumy w zestawieniu, nie wiem czy nie trzeba by pokazać obu wartości. Alternatywne rozwiązanie."
   ]
  },
  {
   "cell_type": "code",
   "execution_count": null,
   "id": "6191a1db",
   "metadata": {},
   "outputs": [],
   "source": [
    "max_albums = year_with_the_hight_number_of_albums.max()[0]\n",
    "list_of_year_with_the_hight_number_of_albums = year_with_the_hight_number_of_albums[year_with_the_hight_number_of_albums['Rok'] == max_albums]\n",
    "print(f\"Year with max albums\\n {list_of_year_with_the_hight_number_of_albums.rename(columns = {'Rok' : 'Ilosc powtorzen'})}\")"
   ]
  },
  {
   "cell_type": "markdown",
   "id": "761c8a46",
   "metadata": {},
   "source": [
    "### 7. Ile albumów wydanych między 1960 a 1990 rokiem włącznie znajduje się na liście?"
   ]
  },
  {
   "cell_type": "code",
   "execution_count": null,
   "id": "5c13fa8c",
   "metadata": {},
   "outputs": [],
   "source": [
    "number_of_albums_between_1960_1990 = df[(df['Rok'] >= 1960) & (df['Rok'] <= 1990)].count()[0]\n",
    "print(f\"Number of albums between 1960 and 1990: {number_of_albums_between_1960_1990}\")"
   ]
  },
  {
   "cell_type": "markdown",
   "id": "c36edc07",
   "metadata": {},
   "source": [
    "### 8. W którym roku wydany został najmłodszy album na liście?"
   ]
  },
  {
   "cell_type": "code",
   "execution_count": null,
   "id": "ac1710ca",
   "metadata": {},
   "outputs": [],
   "source": [
    "youngest_year_album = df['Rok'].max()\n",
    "print(f\"The youngest album was released in {youngest_year_album}\")"
   ]
  },
  {
   "cell_type": "markdown",
   "id": "14784217",
   "metadata": {},
   "source": [
    "### 9. Przygotuj listę najwcześniej wydanych albumów każdego artysty, który znalazł się na liście."
   ]
  },
  {
   "cell_type": "code",
   "execution_count": null,
   "id": "f5bba68e",
   "metadata": {},
   "outputs": [],
   "source": [
    "sorted_by_year = df.sort_values(by=['Rok'])\n",
    "the_ealrest_albums_for_artist = sorted_by_year.drop_duplicates(subset = ['Artysta'], keep='first')\n",
    "list_of_albums = the_ealrest_albums_for_artist.drop(['Lp', 'Max Poz', 'Rok', 'Artysta'], axis=1)\n",
    "list_of_albums"
   ]
  },
  {
   "cell_type": "markdown",
   "id": "ead39690",
   "metadata": {},
   "source": [
    "### 10. Listę zapisz do pliku csv"
   ]
  },
  {
   "cell_type": "code",
   "execution_count": null,
   "id": "8ba7d8c3",
   "metadata": {},
   "outputs": [],
   "source": [
    "list_of_albums.to_csv('list_of_albums.csv', index = False)"
   ]
  },
  {
   "cell_type": "markdown",
   "id": "ae7dcca5",
   "metadata": {},
   "source": [
    "### PODSUMOWANIE\n",
    "Zadanie polegało na wykonaniu następujących zadań:\n",
    "1. Zamień nagłówki kolumn na polskie odpowiedniki: ['TYTUŁ','ARTYSTA','ROK','MAX POZ']\n",
    "2. Ilu pojedynczych artystów znajduje się na liście?\n",
    "3. Które zespoły pojawiają się najczęściej na liście?\n",
    "4. Zmień nagłówki kolumn, tak aby każdy z nich rozpoczynał się od wielkiej litery, a pozostałe były wprowadzone małymi literami.\n",
    "5. Wyrzuć z tabeli kolumnę ‘Max Poz’.\n",
    "6. W którym roku wyszło najwięcej albumów znajdujących się na liście?\n",
    "7. Ile albumów wydanych między 1960 a 1990 rokiem włącznie znajduje się na liście?\n",
    "8. W którym roku wydany został najmłodszy album na liście?\n",
    "9. Przygotuj listę najwcześniej wydanych albumów każdego artysty, który znalazł się na liście.\n",
    "10. Listę zapisz do pliku csv.\n",
    "\n",
    "Punkty 1, 4, 5 oraz 10 nie wymagają szerszego opisu.\n",
    "\n",
    "#### 2. Ilu pojedynczych artystów znajduje się na liście?\n",
    "Zgodnie z odpowiedzią, w zestawienu jest 47 unikalnych artystów. Bazowa lista zawierała 60 tytułów albumów, stąd łatwo wysunąć wniosek, że jeden lub więcej artystów musiał pojawić się w zestawieniu więcej niż z jednym albumem. Dalej przeanalizowano to w pytaniu 3.\n",
    "\n",
    "#### 3. Które zespoły pojawiają się najczęściej na liście?\n",
    "Odpowiedź z pytania 2 od razu nasuwa nam przeanalizowanie, którzy artyści są najbardziej popularni, lub, co bardziej poprawne, wytworzyli najwięcej popularnych albumów muzycznych. Wyniki pokazują, że takich zespołów jest 11, z czego dwa z nich COLDPLAY oraz TAKE THAT posiadają aż po 3 albumy w zestawieniu popularnych albumów wszech czasów. Oznacza to, że 36 artystów posiada po jednym albumie w zestawieniu.\n",
    "\n",
    "                     ILOSC POJAWIEN W ZESTAWIENIU\n",
    "1. COLDPLAY                                        3\n",
    "2. TAKE THAT                                       3\n",
    "3. FLEETWOOD MAC                                   2\n",
    "4. ABBA                                            2\n",
    "5. DIDO                                            2\n",
    "6. ORIGINAL SOUNDTRACK                             2\n",
    "7. QUEEN                                           2\n",
    "8. ROBBIE WILLIAMS                                 2\n",
    "9. BEATLES                                         2\n",
    "10. MICHAEL JACKSON                                 2\n",
    "11. ADELE                                           2\n",
    "\n",
    "#### 6. W którym roku wyszło najwięcej albumów znajdujących się na liście?\n",
    "Najwięcej albumów pojawiło się w 1987 oraz 2000 roku, gdzie były po 4 albumy: \n",
    "\"DIRTY DANCING\" orginalny ORIGINAL SOUNDTRACK filmu o tym tytule, THE JOSHUA TREE zespołu U2, BAD artysty MICHAEL JACKSON oraz TANGO IN THE NIGHT zespołu FLEETWOOD MAC dla roku 1987.\n",
    "\"1\" zespołu BEATLES, NO ANGEL zespołu DIDO, PARACHUTES zespołu COLDPLAY oraz THE MARSHALL MATHERS LP arytsty EMINEM dla roku 2000.\n",
    "\n",
    "#### 7. Ile albumów wydanych między 1960 a 1990 rokiem włącznie znajduje się na liście? oraz 8. W którym roku wydany został najmłodszy album na liście?\n",
    "Ilość albumów wydanych między 1960 a 1990 wynosi 22, czyli ponad 1/3 albumów wydana była w tych latach. Biorąc pod uwagę, że najstarszy album z zestawienia wydano w 1965, pierwsze 5 lat w wybranym zakresie można pominąć. Najmłodszy album (co jest również odpowiedzią na pytanie 8) wydano w 2015 roku. 1990 - 1965 = 25, oraz 2015 - 1990 = 25, oznacza to, że w zestawieniu jest więcej albumów \"młodszych\" niż \"starszych\".\n",
    "\n",
    "#### 9. Przygotuj listę najwcześniej wydanych albumów każdego artysty, który znalazł się na liście.\n",
    "Samo polecenie nie odpowieda na pytanie, ważnym jest jednak zaznaczenie, że wybieramy tylko 47 albumów (bo tylu jest unikalnych artystów - pytanie 2). Uwzględniając to z analizą pytania 3 łatwo zauważyć, że pominiemy w zestawieniu po dwa albumy COLDPLAY i TAKE THAT oraz po jednym albymie następujących zespołów/wykonawców: FLEETWOOD MAC, ABBA, DIDO, ORIGINAL SOUNDTRACK (co może być mylące, bo dotyczy dwóch różnych filmów), QUEENROBBIE WILLIAMS, BEATLES, MICHAEL JACKSON i ADELE. Należało by zastanowić się, czy \"ORIGINAL SOUNTRACK\" nie potraktować jako wyjątek przy tej analizie, bo nazwa artysty jest tu myląca (GREASE\tORIGINAL SOUNDTRACK z 1977, DIRTY DANCING\tORIGINAL SOUNDTRACK z 1987), gdyż dotyczy w rzeczywistości innych artystów."
   ]
  },
  {
   "cell_type": "code",
   "execution_count": null,
   "id": "f6ef40d0",
   "metadata": {},
   "outputs": [],
   "source": []
  }
 ],
 "metadata": {
  "kernelspec": {
   "display_name": "Python 3 (ipykernel)",
   "language": "python",
   "name": "python3"
  },
  "language_info": {
   "codemirror_mode": {
    "name": "ipython",
    "version": 3
   },
   "file_extension": ".py",
   "mimetype": "text/x-python",
   "name": "python",
   "nbconvert_exporter": "python",
   "pygments_lexer": "ipython3",
   "version": "3.12.6"
  }
 },
 "nbformat": 4,
 "nbformat_minor": 5
}
