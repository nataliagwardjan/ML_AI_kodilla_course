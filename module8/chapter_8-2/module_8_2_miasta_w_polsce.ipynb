{
 "cells": [
  {
   "cell_type": "markdown",
   "id": "b2743c47",
   "metadata": {},
   "source": [
    "# Module 8.2"
   ]
  },
  {
   "cell_type": "markdown",
   "id": "cc9bab57",
   "metadata": {},
   "source": [
    "#### Import"
   ]
  },
  {
   "cell_type": "code",
   "execution_count": 2,
   "id": "e2a15798",
   "metadata": {},
   "outputs": [],
   "source": [
    "import pandas as pd\n",
    "import numpy as np"
   ]
  },
  {
   "cell_type": "code",
   "execution_count": 3,
   "id": "5cb61c6f",
   "metadata": {},
   "outputs": [],
   "source": [
    "df = pd.read_excel('myExcelFile.xlsx', sheet_name='my_data')"
   ]
  },
  {
   "cell_type": "code",
   "execution_count": 4,
   "id": "58c5ed44",
   "metadata": {},
   "outputs": [],
   "source": [
    "df.to_excel('myNewExcelFile.xlsx', sheet_name='my_new_data')"
   ]
  },
  {
   "cell_type": "code",
   "execution_count": 5,
   "id": "dfa4e1bb",
   "metadata": {},
   "outputs": [],
   "source": [
    "writer = pd.ExcelWriter('pandas_simple.xlsx', engine='xlsxwriter')"
   ]
  },
  {
   "cell_type": "code",
   "execution_count": 6,
   "id": "8651cbc1",
   "metadata": {},
   "outputs": [],
   "source": [
    "df.to_excel(writer, sheet_name='my_dfs')\n",
    "df.to_excel(writer, sheet_name='my_dfs', startcol=6, startrow=5, index=False)"
   ]
  },
  {
   "cell_type": "code",
   "execution_count": 7,
   "id": "e73de464",
   "metadata": {},
   "outputs": [],
   "source": [
    "writer.save()"
   ]
  },
  {
   "cell_type": "code",
   "execution_count": 8,
   "id": "546cf753",
   "metadata": {},
   "outputs": [],
   "source": [
    "writer = pd.ExcelWriter('many_sheets.xlsx', engine='xlsxwriter')\n",
    "\n",
    "df.to_excel(writer, sheet_name='my_df1')\n",
    "df.to_excel(writer, sheet_name='my_df2')\n",
    "\n",
    "writer.save()"
   ]
  },
  {
   "cell_type": "code",
   "execution_count": 9,
   "id": "051ff9a4",
   "metadata": {},
   "outputs": [],
   "source": [
    "writer = pd.ExcelWriter('add_chart.xlsx', engine='xlsxwriter')\n",
    "df.to_excel(writer, sheet_name='my_chart')"
   ]
  },
  {
   "cell_type": "code",
   "execution_count": 10,
   "id": "e544ff76",
   "metadata": {},
   "outputs": [],
   "source": [
    "workbook = writer.book\n",
    "worksheet = writer.sheets['my_chart']"
   ]
  },
  {
   "cell_type": "code",
   "execution_count": 11,
   "id": "cf4a4683",
   "metadata": {},
   "outputs": [],
   "source": [
    "chart = workbook.add_chart({'type':'line'})"
   ]
  },
  {
   "cell_type": "code",
   "execution_count": 12,
   "id": "5e3e4d81",
   "metadata": {},
   "outputs": [],
   "source": [
    "def grab_series(df, sheet_name, colname, startcol=0, startrow=0):\n",
    "\n",
    "    col_index = df.columns.tolist().index(colname)\n",
    "    col_letter = chr(ord('@')+(col_index+2+startcol))\n",
    "    first_row = startrow + 2\n",
    "    last_row = startrow + 1 + len(df)\n",
    "    return f\"='{sheet_name}'!{col_letter}{first_row}:{col_letter}{last_row}\""
   ]
  },
  {
   "cell_type": "code",
   "execution_count": 13,
   "id": "c59b3ba9",
   "metadata": {},
   "outputs": [],
   "source": [
    "chart.add_series({'values':grab_series(df,'my_chart','B')})"
   ]
  },
  {
   "cell_type": "code",
   "execution_count": 14,
   "id": "39bd2a63",
   "metadata": {},
   "outputs": [],
   "source": [
    "chart.set_x_axis({\n",
    "    'name': 'x^2',\n",
    "    'name_font': {'size': 14, 'bold': True},\n",
    "    'num_font':  {'italic': True },\n",
    "})"
   ]
  },
  {
   "cell_type": "code",
   "execution_count": 15,
   "id": "2932e4a7",
   "metadata": {},
   "outputs": [],
   "source": [
    "chart.set_legend({'none': True})"
   ]
  },
  {
   "cell_type": "code",
   "execution_count": 16,
   "id": "24de65a5",
   "metadata": {},
   "outputs": [
    {
     "data": {
      "text/plain": [
       "0"
      ]
     },
     "execution_count": 16,
     "metadata": {},
     "output_type": "execute_result"
    }
   ],
   "source": [
    "worksheet.insert_chart('F2', chart)"
   ]
  },
  {
   "cell_type": "code",
   "execution_count": 17,
   "id": "af9dfaae",
   "metadata": {},
   "outputs": [
    {
     "name": "stderr",
     "output_type": "stream",
     "text": [
      "/opt/anaconda3/lib/python3.9/site-packages/xlsxwriter/workbook.py:339: UserWarning: Calling close() on already closed file.\n",
      "  warn(\"Calling close() on already closed file.\")\n"
     ]
    }
   ],
   "source": [
    "writer.save()\n",
    "workbook.close()"
   ]
  },
  {
   "cell_type": "code",
   "execution_count": 18,
   "id": "99dec93d",
   "metadata": {},
   "outputs": [],
   "source": [
    "writer = pd.ExcelWriter('conditional_format.xlsx', engine='xlsxwriter')\n",
    "\n",
    "df.to_excel(writer, sheet_name='my_conditional')\n",
    "\n",
    "workbook = writer.book\n",
    "worksheet = writer.sheets['my_conditional']"
   ]
  },
  {
   "cell_type": "code",
   "execution_count": 19,
   "id": "b95a95dd",
   "metadata": {},
   "outputs": [],
   "source": [
    "format1 = workbook.add_format({'bg_color':   '#FFC7CE',\n",
    "                               'font_color': '#9C0006'})"
   ]
  },
  {
   "cell_type": "code",
   "execution_count": 20,
   "id": "af1b0dfc",
   "metadata": {},
   "outputs": [
    {
     "data": {
      "text/plain": [
       "0"
      ]
     },
     "execution_count": 20,
     "metadata": {},
     "output_type": "execute_result"
    }
   ],
   "source": [
    "worksheet.conditional_format(\"D2:D12\",{'type': 'cell',\n",
    "                                      'criteria':'>=',\n",
    "                                      'value':300,\n",
    "                                      'format':format1})"
   ]
  },
  {
   "cell_type": "code",
   "execution_count": 21,
   "id": "19997b1a",
   "metadata": {},
   "outputs": [
    {
     "data": {
      "text/plain": [
       "0"
      ]
     },
     "execution_count": 21,
     "metadata": {},
     "output_type": "execute_result"
    }
   ],
   "source": [
    "worksheet.write_string('A16','Podaj liczbę całkowitą większą od 0:')"
   ]
  },
  {
   "cell_type": "code",
   "execution_count": 22,
   "id": "866983ff",
   "metadata": {},
   "outputs": [
    {
     "data": {
      "text/plain": [
       "0"
      ]
     },
     "execution_count": 22,
     "metadata": {},
     "output_type": "execute_result"
    }
   ],
   "source": [
    "worksheet.data_validation('B16', {\n",
    "    'validate':'integer',\n",
    "    'criteria':'>',\n",
    "    'value':0\n",
    "})"
   ]
  },
  {
   "cell_type": "code",
   "execution_count": 23,
   "id": "39cb4878",
   "metadata": {},
   "outputs": [
    {
     "data": {
      "text/plain": [
       "0"
      ]
     },
     "execution_count": 23,
     "metadata": {},
     "output_type": "execute_result"
    }
   ],
   "source": [
    "worksheet.set_column('A:A',35)"
   ]
  },
  {
   "cell_type": "code",
   "execution_count": 24,
   "id": "1bb413cd",
   "metadata": {},
   "outputs": [],
   "source": [
    "writer.save()\n",
    "workbook.close()"
   ]
  },
  {
   "cell_type": "code",
   "execution_count": 25,
   "id": "2a7a01df",
   "metadata": {},
   "outputs": [],
   "source": [
    "data = pd.read_html('https://pl.wikipedia.org/wiki/Miasta_w_Polsce', header=0)"
   ]
  },
  {
   "cell_type": "code",
   "execution_count": null,
   "id": "cd2c6b5a",
   "metadata": {},
   "outputs": [],
   "source": []
  }
 ],
 "metadata": {
  "kernelspec": {
   "display_name": "Python 3 (ipykernel)",
   "language": "python",
   "name": "python3"
  },
  "language_info": {
   "codemirror_mode": {
    "name": "ipython",
    "version": 3
   },
   "file_extension": ".py",
   "mimetype": "text/x-python",
   "name": "python",
   "nbconvert_exporter": "python",
   "pygments_lexer": "ipython3",
   "version": "3.12.6"
  }
 },
 "nbformat": 4,
 "nbformat_minor": 5
}
